{
  "nbformat": 4,
  "nbformat_minor": 0,
  "metadata": {
    "colab": {
      "provenance": [],
      "authorship_tag": "ABX9TyNwjcWPzJuHAd9E9rxFCXUz",
      "include_colab_link": true
    },
    "kernelspec": {
      "name": "python3",
      "display_name": "Python 3"
    },
    "language_info": {
      "name": "python"
    }
  },
  "cells": [
    {
      "cell_type": "markdown",
      "metadata": {
        "id": "view-in-github",
        "colab_type": "text"
      },
      "source": [
        "<a href=\"https://colab.research.google.com/github/Daksh-Raghuvanshi/Machine-Learnig-Projects/blob/main/Random_Forest_Regressor.ipynb\" target=\"_parent\"><img src=\"https://colab.research.google.com/assets/colab-badge.svg\" alt=\"Open In Colab\"/></a>"
      ]
    },
    {
      "cell_type": "markdown",
      "source": [
        "Here we gonna use Random Forest Regressor to predict the values of House in Bangalore House Price dataset."
      ],
      "metadata": {
        "id": "_E-FoLCEXmBI"
      }
    },
    {
      "cell_type": "code",
      "execution_count": null,
      "metadata": {
        "id": "7RR1kmWFXb_y"
      },
      "outputs": [],
      "source": [
        "import numpy as np\n",
        "import pandas as pd\n",
        "from sklearn.model_selection import train_test_split\n",
        "from sklearn.preprocessing import StandardScaler\n",
        "from sklearn.ensemble import RandomForestRegressor"
      ]
    },
    {
      "cell_type": "code",
      "source": [
        "df = pd.read_csv('/content/bangalore house price prediction OHE-data (1).csv')\n",
        "df.head()"
      ],
      "metadata": {
        "colab": {
          "base_uri": "https://localhost:8080/",
          "height": 317
        },
        "id": "K84fZOzMYM5Q",
        "outputId": "8e6d7249-b91a-47b2-9216-098f76cb594d"
      },
      "execution_count": null,
      "outputs": [
        {
          "output_type": "execute_result",
          "data": {
            "text/plain": [
              "   bath  balcony  price  total_sqft_int  bhk  price_per_sqft  \\\n",
              "0   3.0      2.0  150.0          1672.0    3     8971.291866   \n",
              "1   3.0      3.0  149.0          1750.0    3     8514.285714   \n",
              "2   3.0      2.0  150.0          1750.0    3     8571.428571   \n",
              "3   2.0      2.0   40.0          1250.0    2     3200.000000   \n",
              "4   2.0      2.0   83.0          1200.0    2     6916.666667   \n",
              "\n",
              "   area_typeSuper built-up  Area  area_typeBuilt-up  Area  \\\n",
              "0                              1                        0   \n",
              "1                              0                        1   \n",
              "2                              1                        0   \n",
              "3                              1                        0   \n",
              "4                              0                        0   \n",
              "\n",
              "   area_typePlot  Area  availability_Ready To Move  ...  \\\n",
              "0                    0                           1  ...   \n",
              "1                    0                           1  ...   \n",
              "2                    0                           1  ...   \n",
              "3                    0                           1  ...   \n",
              "4                    1                           1  ...   \n",
              "\n",
              "   location_Kalena Agrahara  location_Horamavu Agara  location_Vidyaranyapura  \\\n",
              "0                         0                        0                        0   \n",
              "1                         0                        0                        0   \n",
              "2                         0                        0                        0   \n",
              "3                         0                        0                        0   \n",
              "4                         0                        0                        0   \n",
              "\n",
              "   location_BTM 2nd Stage  location_Hebbal Kempapura  location_Hosur Road  \\\n",
              "0                       0                          0                    0   \n",
              "1                       0                          0                    0   \n",
              "2                       0                          0                    0   \n",
              "3                       0                          0                    0   \n",
              "4                       0                          0                    0   \n",
              "\n",
              "   location_Horamavu Banaswadi  location_Domlur  location_Mahadevpura  \\\n",
              "0                            0                0                     0   \n",
              "1                            0                0                     0   \n",
              "2                            0                0                     0   \n",
              "3                            0                0                     0   \n",
              "4                            0                0                     0   \n",
              "\n",
              "   location_Tumkur Road  \n",
              "0                     0  \n",
              "1                     0  \n",
              "2                     0  \n",
              "3                     0  \n",
              "4                     0  \n",
              "\n",
              "[5 rows x 108 columns]"
            ],
            "text/html": [
              "\n",
              "  <div id=\"df-8e1d2bdc-41f1-429d-b4e1-12ac4ece543f\">\n",
              "    <div class=\"colab-df-container\">\n",
              "      <div>\n",
              "<style scoped>\n",
              "    .dataframe tbody tr th:only-of-type {\n",
              "        vertical-align: middle;\n",
              "    }\n",
              "\n",
              "    .dataframe tbody tr th {\n",
              "        vertical-align: top;\n",
              "    }\n",
              "\n",
              "    .dataframe thead th {\n",
              "        text-align: right;\n",
              "    }\n",
              "</style>\n",
              "<table border=\"1\" class=\"dataframe\">\n",
              "  <thead>\n",
              "    <tr style=\"text-align: right;\">\n",
              "      <th></th>\n",
              "      <th>bath</th>\n",
              "      <th>balcony</th>\n",
              "      <th>price</th>\n",
              "      <th>total_sqft_int</th>\n",
              "      <th>bhk</th>\n",
              "      <th>price_per_sqft</th>\n",
              "      <th>area_typeSuper built-up  Area</th>\n",
              "      <th>area_typeBuilt-up  Area</th>\n",
              "      <th>area_typePlot  Area</th>\n",
              "      <th>availability_Ready To Move</th>\n",
              "      <th>...</th>\n",
              "      <th>location_Kalena Agrahara</th>\n",
              "      <th>location_Horamavu Agara</th>\n",
              "      <th>location_Vidyaranyapura</th>\n",
              "      <th>location_BTM 2nd Stage</th>\n",
              "      <th>location_Hebbal Kempapura</th>\n",
              "      <th>location_Hosur Road</th>\n",
              "      <th>location_Horamavu Banaswadi</th>\n",
              "      <th>location_Domlur</th>\n",
              "      <th>location_Mahadevpura</th>\n",
              "      <th>location_Tumkur Road</th>\n",
              "    </tr>\n",
              "  </thead>\n",
              "  <tbody>\n",
              "    <tr>\n",
              "      <th>0</th>\n",
              "      <td>3.0</td>\n",
              "      <td>2.0</td>\n",
              "      <td>150.0</td>\n",
              "      <td>1672.0</td>\n",
              "      <td>3</td>\n",
              "      <td>8971.291866</td>\n",
              "      <td>1</td>\n",
              "      <td>0</td>\n",
              "      <td>0</td>\n",
              "      <td>1</td>\n",
              "      <td>...</td>\n",
              "      <td>0</td>\n",
              "      <td>0</td>\n",
              "      <td>0</td>\n",
              "      <td>0</td>\n",
              "      <td>0</td>\n",
              "      <td>0</td>\n",
              "      <td>0</td>\n",
              "      <td>0</td>\n",
              "      <td>0</td>\n",
              "      <td>0</td>\n",
              "    </tr>\n",
              "    <tr>\n",
              "      <th>1</th>\n",
              "      <td>3.0</td>\n",
              "      <td>3.0</td>\n",
              "      <td>149.0</td>\n",
              "      <td>1750.0</td>\n",
              "      <td>3</td>\n",
              "      <td>8514.285714</td>\n",
              "      <td>0</td>\n",
              "      <td>1</td>\n",
              "      <td>0</td>\n",
              "      <td>1</td>\n",
              "      <td>...</td>\n",
              "      <td>0</td>\n",
              "      <td>0</td>\n",
              "      <td>0</td>\n",
              "      <td>0</td>\n",
              "      <td>0</td>\n",
              "      <td>0</td>\n",
              "      <td>0</td>\n",
              "      <td>0</td>\n",
              "      <td>0</td>\n",
              "      <td>0</td>\n",
              "    </tr>\n",
              "    <tr>\n",
              "      <th>2</th>\n",
              "      <td>3.0</td>\n",
              "      <td>2.0</td>\n",
              "      <td>150.0</td>\n",
              "      <td>1750.0</td>\n",
              "      <td>3</td>\n",
              "      <td>8571.428571</td>\n",
              "      <td>1</td>\n",
              "      <td>0</td>\n",
              "      <td>0</td>\n",
              "      <td>1</td>\n",
              "      <td>...</td>\n",
              "      <td>0</td>\n",
              "      <td>0</td>\n",
              "      <td>0</td>\n",
              "      <td>0</td>\n",
              "      <td>0</td>\n",
              "      <td>0</td>\n",
              "      <td>0</td>\n",
              "      <td>0</td>\n",
              "      <td>0</td>\n",
              "      <td>0</td>\n",
              "    </tr>\n",
              "    <tr>\n",
              "      <th>3</th>\n",
              "      <td>2.0</td>\n",
              "      <td>2.0</td>\n",
              "      <td>40.0</td>\n",
              "      <td>1250.0</td>\n",
              "      <td>2</td>\n",
              "      <td>3200.000000</td>\n",
              "      <td>1</td>\n",
              "      <td>0</td>\n",
              "      <td>0</td>\n",
              "      <td>1</td>\n",
              "      <td>...</td>\n",
              "      <td>0</td>\n",
              "      <td>0</td>\n",
              "      <td>0</td>\n",
              "      <td>0</td>\n",
              "      <td>0</td>\n",
              "      <td>0</td>\n",
              "      <td>0</td>\n",
              "      <td>0</td>\n",
              "      <td>0</td>\n",
              "      <td>0</td>\n",
              "    </tr>\n",
              "    <tr>\n",
              "      <th>4</th>\n",
              "      <td>2.0</td>\n",
              "      <td>2.0</td>\n",
              "      <td>83.0</td>\n",
              "      <td>1200.0</td>\n",
              "      <td>2</td>\n",
              "      <td>6916.666667</td>\n",
              "      <td>0</td>\n",
              "      <td>0</td>\n",
              "      <td>1</td>\n",
              "      <td>1</td>\n",
              "      <td>...</td>\n",
              "      <td>0</td>\n",
              "      <td>0</td>\n",
              "      <td>0</td>\n",
              "      <td>0</td>\n",
              "      <td>0</td>\n",
              "      <td>0</td>\n",
              "      <td>0</td>\n",
              "      <td>0</td>\n",
              "      <td>0</td>\n",
              "      <td>0</td>\n",
              "    </tr>\n",
              "  </tbody>\n",
              "</table>\n",
              "<p>5 rows × 108 columns</p>\n",
              "</div>\n",
              "      <button class=\"colab-df-convert\" onclick=\"convertToInteractive('df-8e1d2bdc-41f1-429d-b4e1-12ac4ece543f')\"\n",
              "              title=\"Convert this dataframe to an interactive table.\"\n",
              "              style=\"display:none;\">\n",
              "        \n",
              "  <svg xmlns=\"http://www.w3.org/2000/svg\" height=\"24px\"viewBox=\"0 0 24 24\"\n",
              "       width=\"24px\">\n",
              "    <path d=\"M0 0h24v24H0V0z\" fill=\"none\"/>\n",
              "    <path d=\"M18.56 5.44l.94 2.06.94-2.06 2.06-.94-2.06-.94-.94-2.06-.94 2.06-2.06.94zm-11 1L8.5 8.5l.94-2.06 2.06-.94-2.06-.94L8.5 2.5l-.94 2.06-2.06.94zm10 10l.94 2.06.94-2.06 2.06-.94-2.06-.94-.94-2.06-.94 2.06-2.06.94z\"/><path d=\"M17.41 7.96l-1.37-1.37c-.4-.4-.92-.59-1.43-.59-.52 0-1.04.2-1.43.59L10.3 9.45l-7.72 7.72c-.78.78-.78 2.05 0 2.83L4 21.41c.39.39.9.59 1.41.59.51 0 1.02-.2 1.41-.59l7.78-7.78 2.81-2.81c.8-.78.8-2.07 0-2.86zM5.41 20L4 18.59l7.72-7.72 1.47 1.35L5.41 20z\"/>\n",
              "  </svg>\n",
              "      </button>\n",
              "      \n",
              "  <style>\n",
              "    .colab-df-container {\n",
              "      display:flex;\n",
              "      flex-wrap:wrap;\n",
              "      gap: 12px;\n",
              "    }\n",
              "\n",
              "    .colab-df-convert {\n",
              "      background-color: #E8F0FE;\n",
              "      border: none;\n",
              "      border-radius: 50%;\n",
              "      cursor: pointer;\n",
              "      display: none;\n",
              "      fill: #1967D2;\n",
              "      height: 32px;\n",
              "      padding: 0 0 0 0;\n",
              "      width: 32px;\n",
              "    }\n",
              "\n",
              "    .colab-df-convert:hover {\n",
              "      background-color: #E2EBFA;\n",
              "      box-shadow: 0px 1px 2px rgba(60, 64, 67, 0.3), 0px 1px 3px 1px rgba(60, 64, 67, 0.15);\n",
              "      fill: #174EA6;\n",
              "    }\n",
              "\n",
              "    [theme=dark] .colab-df-convert {\n",
              "      background-color: #3B4455;\n",
              "      fill: #D2E3FC;\n",
              "    }\n",
              "\n",
              "    [theme=dark] .colab-df-convert:hover {\n",
              "      background-color: #434B5C;\n",
              "      box-shadow: 0px 1px 3px 1px rgba(0, 0, 0, 0.15);\n",
              "      filter: drop-shadow(0px 1px 2px rgba(0, 0, 0, 0.3));\n",
              "      fill: #FFFFFF;\n",
              "    }\n",
              "  </style>\n",
              "\n",
              "      <script>\n",
              "        const buttonEl =\n",
              "          document.querySelector('#df-8e1d2bdc-41f1-429d-b4e1-12ac4ece543f button.colab-df-convert');\n",
              "        buttonEl.style.display =\n",
              "          google.colab.kernel.accessAllowed ? 'block' : 'none';\n",
              "\n",
              "        async function convertToInteractive(key) {\n",
              "          const element = document.querySelector('#df-8e1d2bdc-41f1-429d-b4e1-12ac4ece543f');\n",
              "          const dataTable =\n",
              "            await google.colab.kernel.invokeFunction('convertToInteractive',\n",
              "                                                     [key], {});\n",
              "          if (!dataTable) return;\n",
              "\n",
              "          const docLinkHtml = 'Like what you see? Visit the ' +\n",
              "            '<a target=\"_blank\" href=https://colab.research.google.com/notebooks/data_table.ipynb>data table notebook</a>'\n",
              "            + ' to learn more about interactive tables.';\n",
              "          element.innerHTML = '';\n",
              "          dataTable['output_type'] = 'display_data';\n",
              "          await google.colab.output.renderOutput(dataTable, element);\n",
              "          const docLink = document.createElement('div');\n",
              "          docLink.innerHTML = docLinkHtml;\n",
              "          element.appendChild(docLink);\n",
              "        }\n",
              "      </script>\n",
              "    </div>\n",
              "  </div>\n",
              "  "
            ]
          },
          "metadata": {},
          "execution_count": 4
        }
      ]
    },
    {
      "cell_type": "code",
      "source": [
        "X = df.drop('price' , axis = 1)\n",
        "y = df['price']"
      ],
      "metadata": {
        "id": "Z2ACIgZRYane"
      },
      "execution_count": null,
      "outputs": []
    },
    {
      "cell_type": "code",
      "source": [
        "print(X.shape)\n",
        "print(y.shape)"
      ],
      "metadata": {
        "colab": {
          "base_uri": "https://localhost:8080/"
        },
        "id": "_haiAJ0jYdyo",
        "outputId": "9a61f383-6c9b-45d5-a576-adb26ac57805"
      },
      "execution_count": null,
      "outputs": [
        {
          "output_type": "stream",
          "name": "stdout",
          "text": [
            "(7120, 107)\n",
            "(7120,)\n"
          ]
        }
      ]
    },
    {
      "cell_type": "code",
      "source": [
        "X_train , X_test , y_train , y_test = train_test_split( X , y , test_size= 0.2 , random_state = 51)\n",
        "print(f\"{X_train.shape} ,{X_test.shape} , {y_train.shape} , {y_test.shape} \")"
      ],
      "metadata": {
        "colab": {
          "base_uri": "https://localhost:8080/"
        },
        "id": "-JWMCln8YgjM",
        "outputId": "17a3cfbc-6d25-490b-ac0e-809ae93ad7a9"
      },
      "execution_count": null,
      "outputs": [
        {
          "output_type": "stream",
          "name": "stdout",
          "text": [
            "(5696, 107) ,(1424, 107) , (5696,) , (1424,) \n"
          ]
        }
      ]
    },
    {
      "cell_type": "code",
      "source": [
        "sc = StandardScaler()\n",
        "sc.fit(X_train)\n",
        "print(sc.mean_)\n",
        "print(sc.scale_)"
      ],
      "metadata": {
        "colab": {
          "base_uri": "https://localhost:8080/"
        },
        "id": "mHM6wveJYjVG",
        "outputId": "9a8ba529-b50e-4418-a142-b31b1b1dffb3"
      },
      "execution_count": null,
      "outputs": [
        {
          "output_type": "stream",
          "name": "stdout",
          "text": [
            "[2.38307584e+00 1.57567977e+00 1.46585984e+03 2.45646067e+00\n",
            " 5.91633522e+03 7.51404494e-01 1.82584270e-01 6.07443820e-02\n",
            " 7.93539326e-01 3.26544944e-02 2.61587079e-02 2.12429775e-02\n",
            " 1.66783708e-02 1.61516854e-02 1.56250000e-02 1.52738764e-02\n",
            " 1.65028090e-02 1.50983146e-02 1.42205056e-02 1.31671348e-02\n",
            " 1.19382022e-02 1.17626404e-02 1.12359551e-02 1.24648876e-02\n",
            " 8.60252809e-03 7.37359551e-03 7.90028090e-03 8.07584270e-03\n",
            " 7.54915730e-03 8.07584270e-03 7.54915730e-03 6.67134831e-03\n",
            " 6.67134831e-03 5.79353933e-03 5.61797753e-03 6.49578652e-03\n",
            " 5.44241573e-03 6.32022472e-03 5.09129213e-03 5.61797753e-03\n",
            " 4.56460674e-03 6.49578652e-03 5.09129213e-03 6.14466292e-03\n",
            " 5.61797753e-03 6.14466292e-03 4.21348315e-03 5.61797753e-03\n",
            " 4.74016854e-03 5.61797753e-03 4.74016854e-03 4.91573034e-03\n",
            " 5.26685393e-03 4.91573034e-03 4.03792135e-03 3.86235955e-03\n",
            " 3.86235955e-03 4.38904494e-03 4.21348315e-03 3.51123596e-03\n",
            " 3.68679775e-03 4.38904494e-03 4.38904494e-03 3.86235955e-03\n",
            " 4.03792135e-03 3.51123596e-03 4.38904494e-03 4.03792135e-03\n",
            " 3.86235955e-03 3.86235955e-03 3.51123596e-03 3.51123596e-03\n",
            " 3.51123596e-03 3.16011236e-03 3.51123596e-03 3.33567416e-03\n",
            " 3.51123596e-03 3.51123596e-03 3.68679775e-03 3.68679775e-03\n",
            " 2.98455056e-03 3.68679775e-03 3.86235955e-03 3.51123596e-03\n",
            " 3.51123596e-03 3.86235955e-03 3.86235955e-03 3.33567416e-03\n",
            " 4.21348315e-03 3.86235955e-03 3.68679775e-03 3.51123596e-03\n",
            " 2.80898876e-03 3.16011236e-03 3.86235955e-03 2.98455056e-03\n",
            " 3.51123596e-03 2.98455056e-03 2.98455056e-03 2.63342697e-03\n",
            " 2.80898876e-03 2.80898876e-03 2.98455056e-03 2.98455056e-03\n",
            " 3.16011236e-03 3.16011236e-03 2.63342697e-03]\n",
            "[8.65227177e-01 7.71370094e-01 7.75239330e+02 8.27588110e-01\n",
            " 2.51840105e+03 4.32198774e-01 3.86325322e-01 2.38860842e-01\n",
            " 4.04764949e-01 1.77730634e-01 1.59607111e-01 1.44193320e-01\n",
            " 1.28063276e-01 1.26058750e-01 1.24019593e-01 1.22640063e-01\n",
            " 1.27398847e-01 1.21944067e-01 1.18398830e-01 1.13990181e-01\n",
            " 1.08607926e-01 1.07815958e-01 1.05402601e-01 1.10948250e-01\n",
            " 9.23500114e-02 8.55524728e-02 8.85317257e-02 8.95020864e-02\n",
            " 8.65573078e-02 8.95020864e-02 8.65573078e-02 8.14054140e-02\n",
            " 8.14054140e-02 7.58944941e-02 7.47423298e-02 8.03342472e-02\n",
            " 7.35717054e-02 7.92482144e-02 7.11714190e-02 7.47423298e-02\n",
            " 6.74075004e-02 8.03342472e-02 7.11714190e-02 7.81466956e-02\n",
            " 7.47423298e-02 7.81466956e-02 6.47744526e-02 7.47423298e-02\n",
            " 6.86855104e-02 7.47423298e-02 6.86855104e-02 6.99397307e-02\n",
            " 7.23817255e-02 6.99397307e-02 6.34162167e-02 6.20277497e-02\n",
            " 6.20277497e-02 6.61043208e-02 6.47744526e-02 5.91515611e-02\n",
            " 6.06069738e-02 6.61043208e-02 6.61043208e-02 6.20277497e-02\n",
            " 6.34162167e-02 5.91515611e-02 6.61043208e-02 6.34162167e-02\n",
            " 6.20277497e-02 6.20277497e-02 5.91515611e-02 5.91515611e-02\n",
            " 5.91515611e-02 5.61259837e-02 5.91515611e-02 5.76588886e-02\n",
            " 5.91515611e-02 5.91515611e-02 6.06069738e-02 6.06069738e-02\n",
            " 5.45494548e-02 6.06069738e-02 6.20277497e-02 5.91515611e-02\n",
            " 5.91515611e-02 6.20277497e-02 6.20277497e-02 5.76588886e-02\n",
            " 6.47744526e-02 6.20277497e-02 6.06069738e-02 5.91515611e-02\n",
            " 5.29254036e-02 5.61259837e-02 6.20277497e-02 5.45494548e-02\n",
            " 5.91515611e-02 5.45494548e-02 5.45494548e-02 5.12493125e-02\n",
            " 5.29254036e-02 5.29254036e-02 5.45494548e-02 5.45494548e-02\n",
            " 5.61259837e-02 5.61259837e-02 5.12493125e-02]\n"
          ]
        }
      ]
    },
    {
      "cell_type": "code",
      "source": [
        "X_train_sc = sc.transform(X_train)\n",
        "X_test_sc = sc.transform(X_test)"
      ],
      "metadata": {
        "id": "8y5dvfUBYn6L"
      },
      "execution_count": null,
      "outputs": []
    },
    {
      "cell_type": "markdown",
      "source": [
        "Formation of the model "
      ],
      "metadata": {
        "id": "xboRomAcYtUJ"
      }
    },
    {
      "cell_type": "code",
      "source": [
        "rfr_sqe = RandomForestRegressor(n_estimators =  100, criterion = \"squared_error\")\n",
        "rfr_sqe.fit(X_train , y_train)\n",
        "rfr_sqe.score(X_test , y_test)"
      ],
      "metadata": {
        "colab": {
          "base_uri": "https://localhost:8080/"
        },
        "id": "i3zvPU5PYq3R",
        "outputId": "18ca2333-1ca8-4bfa-9223-84edac8262be"
      },
      "execution_count": null,
      "outputs": [
        {
          "output_type": "execute_result",
          "data": {
            "text/plain": [
              "0.8921807949462384"
            ]
          },
          "metadata": {},
          "execution_count": 10
        }
      ]
    },
    {
      "cell_type": "code",
      "source": [
        "rfr_abe = RandomForestRegressor(n_estimators =  100, criterion = \"absolute_error\")\n",
        "rfr_abe.fit(X_train , y_train)\n",
        "rfr_abe.score(X_test , y_test)"
      ],
      "metadata": {
        "colab": {
          "base_uri": "https://localhost:8080/"
        },
        "id": "pCEuTnd2ZaWC",
        "outputId": "9c52cfbb-189c-4db2-a1d0-95dbd82a3066"
      },
      "execution_count": null,
      "outputs": [
        {
          "output_type": "execute_result",
          "data": {
            "text/plain": [
              "0.8684103047367424"
            ]
          },
          "metadata": {},
          "execution_count": 11
        }
      ]
    },
    {
      "cell_type": "code",
      "source": [
        "rfr_sqe.predict([X_test.iloc[-1,:]])"
      ],
      "metadata": {
        "colab": {
          "base_uri": "https://localhost:8080/"
        },
        "id": "NPj-9r1hZ08b",
        "outputId": "a3f2c2f3-87f2-4e3b-e9ee-3a957ec3f524"
      },
      "execution_count": null,
      "outputs": [
        {
          "output_type": "stream",
          "name": "stderr",
          "text": [
            "/usr/local/lib/python3.7/dist-packages/sklearn/base.py:451: UserWarning: X does not have valid feature names, but RandomForestRegressor was fitted with feature names\n",
            "  \"X does not have valid feature names, but\"\n"
          ]
        },
        {
          "output_type": "execute_result",
          "data": {
            "text/plain": [
              "array([177.23])"
            ]
          },
          "metadata": {},
          "execution_count": 12
        }
      ]
    },
    {
      "cell_type": "code",
      "source": [
        "y_test.iloc[-1]"
      ],
      "metadata": {
        "colab": {
          "base_uri": "https://localhost:8080/"
        },
        "id": "s_g_2FokcnwK",
        "outputId": "6e58a9d4-e0cf-475e-c158-e591020629e6"
      },
      "execution_count": null,
      "outputs": [
        {
          "output_type": "execute_result",
          "data": {
            "text/plain": [
              "180.0"
            ]
          },
          "metadata": {},
          "execution_count": 13
        }
      ]
    },
    {
      "cell_type": "code",
      "source": [
        "rfr_sqe.predict(X_test)"
      ],
      "metadata": {
        "colab": {
          "base_uri": "https://localhost:8080/"
        },
        "id": "X6fSlA9ecvIa",
        "outputId": "d2e4ae7e-cac1-424d-bdcf-d4f15ceab15c"
      },
      "execution_count": null,
      "outputs": [
        {
          "output_type": "execute_result",
          "data": {
            "text/plain": [
              "array([ 79.5434,  39.9284, 119.61  , ...,  33.1812,  63.1684, 177.23  ])"
            ]
          },
          "metadata": {},
          "execution_count": 14
        }
      ]
    },
    {
      "cell_type": "code",
      "source": [
        "y_test"
      ],
      "metadata": {
        "colab": {
          "base_uri": "https://localhost:8080/"
        },
        "id": "UYBboTEgdM7j",
        "outputId": "2a2a587b-9830-4b7d-e372-2dfc2d94f4f1"
      },
      "execution_count": null,
      "outputs": [
        {
          "output_type": "execute_result",
          "data": {
            "text/plain": [
              "2435     80.00\n",
              "3113     40.00\n",
              "426     120.00\n",
              "1124     79.00\n",
              "1161     45.00\n",
              "         ...  \n",
              "2078     28.34\n",
              "6855     84.00\n",
              "4381     32.00\n",
              "3862     63.00\n",
              "43      180.00\n",
              "Name: price, Length: 1424, dtype: float64"
            ]
          },
          "metadata": {},
          "execution_count": 15
        }
      ]
    },
    {
      "cell_type": "markdown",
      "source": [
        "# Lets see how to save our basic Machine Learning model"
      ],
      "metadata": {
        "id": "wk24Q1SAvS6X"
      }
    },
    {
      "cell_type": "code",
      "source": [
        "import joblib"
      ],
      "metadata": {
        "id": "_QiWKvjcdO28"
      },
      "execution_count": null,
      "outputs": []
    },
    {
      "cell_type": "code",
      "source": [
        "joblib.dump(rfr_sqe , 'Model_RFR')"
      ],
      "metadata": {
        "colab": {
          "base_uri": "https://localhost:8080/"
        },
        "id": "2jcMI_ovvb4_",
        "outputId": "76e6d1ec-1cf6-40d3-e26f-68134ca0b568"
      },
      "execution_count": null,
      "outputs": [
        {
          "output_type": "execute_result",
          "data": {
            "text/plain": [
              "['Model_RFR']"
            ]
          },
          "metadata": {},
          "execution_count": 17
        }
      ]
    },
    {
      "cell_type": "code",
      "source": [
        "model_loaded = joblib.load('Model_RFR')"
      ],
      "metadata": {
        "id": "g_l4Xcg-vrcR"
      },
      "execution_count": null,
      "outputs": []
    },
    {
      "cell_type": "code",
      "source": [
        "model_loaded.predict(X_test)\n"
      ],
      "metadata": {
        "colab": {
          "base_uri": "https://localhost:8080/"
        },
        "id": "wEBT93Jxv_lG",
        "outputId": "def57e22-7555-47f2-aaa8-e96397395ba2"
      },
      "execution_count": null,
      "outputs": [
        {
          "output_type": "execute_result",
          "data": {
            "text/plain": [
              "array([ 79.5434,  39.9284, 119.61  , ...,  33.1812,  63.1684, 177.23  ])"
            ]
          },
          "metadata": {},
          "execution_count": 21
        }
      ]
    },
    {
      "cell_type": "markdown",
      "source": [
        "We can save our model by using Pickle also"
      ],
      "metadata": {
        "id": "d9sa74gxwl2q"
      }
    },
    {
      "cell_type": "code",
      "source": [
        "import pickle"
      ],
      "metadata": {
        "id": "obylVoPQwI5g"
      },
      "execution_count": null,
      "outputs": []
    },
    {
      "cell_type": "code",
      "source": [
        "pickle.dump(rfr_sqe , open('model_pickle' , 'wb'))"
      ],
      "metadata": {
        "id": "flA6BVmzwra3"
      },
      "execution_count": null,
      "outputs": []
    },
    {
      "cell_type": "code",
      "source": [
        "model_loaded_pickle = pickle.load(open('model_pickle' , 'rb'))"
      ],
      "metadata": {
        "id": "lB9YW0F_w5tK"
      },
      "execution_count": null,
      "outputs": []
    },
    {
      "cell_type": "code",
      "source": [
        "model_loaded_pickle.predict(X_test[-1:])"
      ],
      "metadata": {
        "colab": {
          "base_uri": "https://localhost:8080/"
        },
        "id": "VoDhGzqJxar4",
        "outputId": "dfcda438-217b-4541-ad47-a07b207f3488"
      },
      "execution_count": null,
      "outputs": [
        {
          "output_type": "execute_result",
          "data": {
            "text/plain": [
              "array([177.23])"
            ]
          },
          "metadata": {},
          "execution_count": 32
        }
      ]
    },
    {
      "cell_type": "code",
      "source": [
        "np.array(X_test[-1:])"
      ],
      "metadata": {
        "colab": {
          "base_uri": "https://localhost:8080/"
        },
        "id": "39tgEqL0xtfU",
        "outputId": "b6e51b9e-0b45-41dc-fb95-c47dce42c7fe"
      },
      "execution_count": null,
      "outputs": [
        {
          "output_type": "execute_result",
          "data": {
            "text/plain": [
              "array([[2.00000000e+00, 0.00000000e+00, 1.56600000e+03, 2.00000000e+00,\n",
              "        1.14942529e+04, 0.00000000e+00, 0.00000000e+00, 1.00000000e+00,\n",
              "        1.00000000e+00, 0.00000000e+00, 0.00000000e+00, 0.00000000e+00,\n",
              "        0.00000000e+00, 0.00000000e+00, 0.00000000e+00, 0.00000000e+00,\n",
              "        0.00000000e+00, 0.00000000e+00, 0.00000000e+00, 0.00000000e+00,\n",
              "        0.00000000e+00, 0.00000000e+00, 0.00000000e+00, 0.00000000e+00,\n",
              "        0.00000000e+00, 0.00000000e+00, 0.00000000e+00, 0.00000000e+00,\n",
              "        0.00000000e+00, 0.00000000e+00, 0.00000000e+00, 0.00000000e+00,\n",
              "        0.00000000e+00, 0.00000000e+00, 0.00000000e+00, 0.00000000e+00,\n",
              "        0.00000000e+00, 0.00000000e+00, 0.00000000e+00, 0.00000000e+00,\n",
              "        0.00000000e+00, 0.00000000e+00, 0.00000000e+00, 0.00000000e+00,\n",
              "        0.00000000e+00, 0.00000000e+00, 0.00000000e+00, 0.00000000e+00,\n",
              "        0.00000000e+00, 0.00000000e+00, 0.00000000e+00, 0.00000000e+00,\n",
              "        0.00000000e+00, 0.00000000e+00, 0.00000000e+00, 0.00000000e+00,\n",
              "        0.00000000e+00, 0.00000000e+00, 0.00000000e+00, 0.00000000e+00,\n",
              "        0.00000000e+00, 0.00000000e+00, 0.00000000e+00, 0.00000000e+00,\n",
              "        0.00000000e+00, 0.00000000e+00, 0.00000000e+00, 0.00000000e+00,\n",
              "        0.00000000e+00, 0.00000000e+00, 0.00000000e+00, 0.00000000e+00,\n",
              "        0.00000000e+00, 0.00000000e+00, 0.00000000e+00, 0.00000000e+00,\n",
              "        0.00000000e+00, 0.00000000e+00, 0.00000000e+00, 0.00000000e+00,\n",
              "        0.00000000e+00, 0.00000000e+00, 0.00000000e+00, 0.00000000e+00,\n",
              "        0.00000000e+00, 0.00000000e+00, 0.00000000e+00, 0.00000000e+00,\n",
              "        0.00000000e+00, 0.00000000e+00, 0.00000000e+00, 0.00000000e+00,\n",
              "        0.00000000e+00, 0.00000000e+00, 0.00000000e+00, 0.00000000e+00,\n",
              "        0.00000000e+00, 0.00000000e+00, 0.00000000e+00, 0.00000000e+00,\n",
              "        0.00000000e+00, 0.00000000e+00, 0.00000000e+00, 0.00000000e+00,\n",
              "        0.00000000e+00, 0.00000000e+00, 0.00000000e+00]])"
            ]
          },
          "metadata": {},
          "execution_count": 34
        }
      ]
    },
    {
      "cell_type": "code",
      "source": [],
      "metadata": {
        "id": "zas0fAvdztop"
      },
      "execution_count": null,
      "outputs": []
    }
  ]
}