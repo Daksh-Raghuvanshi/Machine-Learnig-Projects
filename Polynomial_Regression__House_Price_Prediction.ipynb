{
  "nbformat": 4,
  "nbformat_minor": 0,
  "metadata": {
    "colab": {
      "provenance": [],
      "authorship_tag": "ABX9TyNbuh9Xtp7eMkzDQkw4RDbk",
      "include_colab_link": true
    },
    "kernelspec": {
      "name": "python3",
      "display_name": "Python 3"
    },
    "language_info": {
      "name": "python"
    }
  },
  "cells": [
    {
      "cell_type": "markdown",
      "metadata": {
        "id": "view-in-github",
        "colab_type": "text"
      },
      "source": [
        "<a href=\"https://colab.research.google.com/github/Daksh-Raghuvanshi/Machine-Learnig-Projects/blob/main/Polynomial_Regression__House_Price_Prediction.ipynb\" target=\"_parent\"><img src=\"https://colab.research.google.com/assets/colab-badge.svg\" alt=\"Open In Colab\"/></a>"
      ]
    },
    {
      "cell_type": "markdown",
      "source": [
        "Polynomial Regression model for the same Bangalore house price Prediction"
      ],
      "metadata": {
        "id": "H1wMrqhurB_l"
      }
    },
    {
      "cell_type": "code",
      "execution_count": null,
      "metadata": {
        "id": "JhO4dQnRqq0p"
      },
      "outputs": [],
      "source": [
        "import pandas as pd\n",
        "import numpy as np\n",
        "import matplotlib.pyplot as plt\n",
        "import seaborn as sns\n",
        "from sklearn.model_selection import train_test_split\n",
        "from sklearn.preprocessing import StandardScaler"
      ]
    },
    {
      "cell_type": "code",
      "source": [
        "df = pd.read_csv('/content/bangalore house price prediction OHE-data (1).csv')\n",
        "df.head()"
      ],
      "metadata": {
        "colab": {
          "base_uri": "https://localhost:8080/",
          "height": 317
        },
        "id": "lnyFzTc1rXbG",
        "outputId": "a209184a-67f0-4f74-b10e-01eaf99dba76"
      },
      "execution_count": null,
      "outputs": [
        {
          "output_type": "execute_result",
          "data": {
            "text/plain": [
              "   bath  balcony  price  total_sqft_int  bhk  price_per_sqft  \\\n",
              "0   3.0      2.0  150.0          1672.0    3     8971.291866   \n",
              "1   3.0      3.0  149.0          1750.0    3     8514.285714   \n",
              "2   3.0      2.0  150.0          1750.0    3     8571.428571   \n",
              "3   2.0      2.0   40.0          1250.0    2     3200.000000   \n",
              "4   2.0      2.0   83.0          1200.0    2     6916.666667   \n",
              "\n",
              "   area_typeSuper built-up  Area  area_typeBuilt-up  Area  \\\n",
              "0                              1                        0   \n",
              "1                              0                        1   \n",
              "2                              1                        0   \n",
              "3                              1                        0   \n",
              "4                              0                        0   \n",
              "\n",
              "   area_typePlot  Area  availability_Ready To Move  ...  \\\n",
              "0                    0                           1  ...   \n",
              "1                    0                           1  ...   \n",
              "2                    0                           1  ...   \n",
              "3                    0                           1  ...   \n",
              "4                    1                           1  ...   \n",
              "\n",
              "   location_Kalena Agrahara  location_Horamavu Agara  location_Vidyaranyapura  \\\n",
              "0                         0                        0                        0   \n",
              "1                         0                        0                        0   \n",
              "2                         0                        0                        0   \n",
              "3                         0                        0                        0   \n",
              "4                         0                        0                        0   \n",
              "\n",
              "   location_BTM 2nd Stage  location_Hebbal Kempapura  location_Hosur Road  \\\n",
              "0                       0                          0                    0   \n",
              "1                       0                          0                    0   \n",
              "2                       0                          0                    0   \n",
              "3                       0                          0                    0   \n",
              "4                       0                          0                    0   \n",
              "\n",
              "   location_Horamavu Banaswadi  location_Domlur  location_Mahadevpura  \\\n",
              "0                            0                0                     0   \n",
              "1                            0                0                     0   \n",
              "2                            0                0                     0   \n",
              "3                            0                0                     0   \n",
              "4                            0                0                     0   \n",
              "\n",
              "   location_Tumkur Road  \n",
              "0                     0  \n",
              "1                     0  \n",
              "2                     0  \n",
              "3                     0  \n",
              "4                     0  \n",
              "\n",
              "[5 rows x 108 columns]"
            ],
            "text/html": [
              "\n",
              "  <div id=\"df-d519416f-9266-461b-add7-7d903da981bd\">\n",
              "    <div class=\"colab-df-container\">\n",
              "      <div>\n",
              "<style scoped>\n",
              "    .dataframe tbody tr th:only-of-type {\n",
              "        vertical-align: middle;\n",
              "    }\n",
              "\n",
              "    .dataframe tbody tr th {\n",
              "        vertical-align: top;\n",
              "    }\n",
              "\n",
              "    .dataframe thead th {\n",
              "        text-align: right;\n",
              "    }\n",
              "</style>\n",
              "<table border=\"1\" class=\"dataframe\">\n",
              "  <thead>\n",
              "    <tr style=\"text-align: right;\">\n",
              "      <th></th>\n",
              "      <th>bath</th>\n",
              "      <th>balcony</th>\n",
              "      <th>price</th>\n",
              "      <th>total_sqft_int</th>\n",
              "      <th>bhk</th>\n",
              "      <th>price_per_sqft</th>\n",
              "      <th>area_typeSuper built-up  Area</th>\n",
              "      <th>area_typeBuilt-up  Area</th>\n",
              "      <th>area_typePlot  Area</th>\n",
              "      <th>availability_Ready To Move</th>\n",
              "      <th>...</th>\n",
              "      <th>location_Kalena Agrahara</th>\n",
              "      <th>location_Horamavu Agara</th>\n",
              "      <th>location_Vidyaranyapura</th>\n",
              "      <th>location_BTM 2nd Stage</th>\n",
              "      <th>location_Hebbal Kempapura</th>\n",
              "      <th>location_Hosur Road</th>\n",
              "      <th>location_Horamavu Banaswadi</th>\n",
              "      <th>location_Domlur</th>\n",
              "      <th>location_Mahadevpura</th>\n",
              "      <th>location_Tumkur Road</th>\n",
              "    </tr>\n",
              "  </thead>\n",
              "  <tbody>\n",
              "    <tr>\n",
              "      <th>0</th>\n",
              "      <td>3.0</td>\n",
              "      <td>2.0</td>\n",
              "      <td>150.0</td>\n",
              "      <td>1672.0</td>\n",
              "      <td>3</td>\n",
              "      <td>8971.291866</td>\n",
              "      <td>1</td>\n",
              "      <td>0</td>\n",
              "      <td>0</td>\n",
              "      <td>1</td>\n",
              "      <td>...</td>\n",
              "      <td>0</td>\n",
              "      <td>0</td>\n",
              "      <td>0</td>\n",
              "      <td>0</td>\n",
              "      <td>0</td>\n",
              "      <td>0</td>\n",
              "      <td>0</td>\n",
              "      <td>0</td>\n",
              "      <td>0</td>\n",
              "      <td>0</td>\n",
              "    </tr>\n",
              "    <tr>\n",
              "      <th>1</th>\n",
              "      <td>3.0</td>\n",
              "      <td>3.0</td>\n",
              "      <td>149.0</td>\n",
              "      <td>1750.0</td>\n",
              "      <td>3</td>\n",
              "      <td>8514.285714</td>\n",
              "      <td>0</td>\n",
              "      <td>1</td>\n",
              "      <td>0</td>\n",
              "      <td>1</td>\n",
              "      <td>...</td>\n",
              "      <td>0</td>\n",
              "      <td>0</td>\n",
              "      <td>0</td>\n",
              "      <td>0</td>\n",
              "      <td>0</td>\n",
              "      <td>0</td>\n",
              "      <td>0</td>\n",
              "      <td>0</td>\n",
              "      <td>0</td>\n",
              "      <td>0</td>\n",
              "    </tr>\n",
              "    <tr>\n",
              "      <th>2</th>\n",
              "      <td>3.0</td>\n",
              "      <td>2.0</td>\n",
              "      <td>150.0</td>\n",
              "      <td>1750.0</td>\n",
              "      <td>3</td>\n",
              "      <td>8571.428571</td>\n",
              "      <td>1</td>\n",
              "      <td>0</td>\n",
              "      <td>0</td>\n",
              "      <td>1</td>\n",
              "      <td>...</td>\n",
              "      <td>0</td>\n",
              "      <td>0</td>\n",
              "      <td>0</td>\n",
              "      <td>0</td>\n",
              "      <td>0</td>\n",
              "      <td>0</td>\n",
              "      <td>0</td>\n",
              "      <td>0</td>\n",
              "      <td>0</td>\n",
              "      <td>0</td>\n",
              "    </tr>\n",
              "    <tr>\n",
              "      <th>3</th>\n",
              "      <td>2.0</td>\n",
              "      <td>2.0</td>\n",
              "      <td>40.0</td>\n",
              "      <td>1250.0</td>\n",
              "      <td>2</td>\n",
              "      <td>3200.000000</td>\n",
              "      <td>1</td>\n",
              "      <td>0</td>\n",
              "      <td>0</td>\n",
              "      <td>1</td>\n",
              "      <td>...</td>\n",
              "      <td>0</td>\n",
              "      <td>0</td>\n",
              "      <td>0</td>\n",
              "      <td>0</td>\n",
              "      <td>0</td>\n",
              "      <td>0</td>\n",
              "      <td>0</td>\n",
              "      <td>0</td>\n",
              "      <td>0</td>\n",
              "      <td>0</td>\n",
              "    </tr>\n",
              "    <tr>\n",
              "      <th>4</th>\n",
              "      <td>2.0</td>\n",
              "      <td>2.0</td>\n",
              "      <td>83.0</td>\n",
              "      <td>1200.0</td>\n",
              "      <td>2</td>\n",
              "      <td>6916.666667</td>\n",
              "      <td>0</td>\n",
              "      <td>0</td>\n",
              "      <td>1</td>\n",
              "      <td>1</td>\n",
              "      <td>...</td>\n",
              "      <td>0</td>\n",
              "      <td>0</td>\n",
              "      <td>0</td>\n",
              "      <td>0</td>\n",
              "      <td>0</td>\n",
              "      <td>0</td>\n",
              "      <td>0</td>\n",
              "      <td>0</td>\n",
              "      <td>0</td>\n",
              "      <td>0</td>\n",
              "    </tr>\n",
              "  </tbody>\n",
              "</table>\n",
              "<p>5 rows × 108 columns</p>\n",
              "</div>\n",
              "      <button class=\"colab-df-convert\" onclick=\"convertToInteractive('df-d519416f-9266-461b-add7-7d903da981bd')\"\n",
              "              title=\"Convert this dataframe to an interactive table.\"\n",
              "              style=\"display:none;\">\n",
              "        \n",
              "  <svg xmlns=\"http://www.w3.org/2000/svg\" height=\"24px\"viewBox=\"0 0 24 24\"\n",
              "       width=\"24px\">\n",
              "    <path d=\"M0 0h24v24H0V0z\" fill=\"none\"/>\n",
              "    <path d=\"M18.56 5.44l.94 2.06.94-2.06 2.06-.94-2.06-.94-.94-2.06-.94 2.06-2.06.94zm-11 1L8.5 8.5l.94-2.06 2.06-.94-2.06-.94L8.5 2.5l-.94 2.06-2.06.94zm10 10l.94 2.06.94-2.06 2.06-.94-2.06-.94-.94-2.06-.94 2.06-2.06.94z\"/><path d=\"M17.41 7.96l-1.37-1.37c-.4-.4-.92-.59-1.43-.59-.52 0-1.04.2-1.43.59L10.3 9.45l-7.72 7.72c-.78.78-.78 2.05 0 2.83L4 21.41c.39.39.9.59 1.41.59.51 0 1.02-.2 1.41-.59l7.78-7.78 2.81-2.81c.8-.78.8-2.07 0-2.86zM5.41 20L4 18.59l7.72-7.72 1.47 1.35L5.41 20z\"/>\n",
              "  </svg>\n",
              "      </button>\n",
              "      \n",
              "  <style>\n",
              "    .colab-df-container {\n",
              "      display:flex;\n",
              "      flex-wrap:wrap;\n",
              "      gap: 12px;\n",
              "    }\n",
              "\n",
              "    .colab-df-convert {\n",
              "      background-color: #E8F0FE;\n",
              "      border: none;\n",
              "      border-radius: 50%;\n",
              "      cursor: pointer;\n",
              "      display: none;\n",
              "      fill: #1967D2;\n",
              "      height: 32px;\n",
              "      padding: 0 0 0 0;\n",
              "      width: 32px;\n",
              "    }\n",
              "\n",
              "    .colab-df-convert:hover {\n",
              "      background-color: #E2EBFA;\n",
              "      box-shadow: 0px 1px 2px rgba(60, 64, 67, 0.3), 0px 1px 3px 1px rgba(60, 64, 67, 0.15);\n",
              "      fill: #174EA6;\n",
              "    }\n",
              "\n",
              "    [theme=dark] .colab-df-convert {\n",
              "      background-color: #3B4455;\n",
              "      fill: #D2E3FC;\n",
              "    }\n",
              "\n",
              "    [theme=dark] .colab-df-convert:hover {\n",
              "      background-color: #434B5C;\n",
              "      box-shadow: 0px 1px 3px 1px rgba(0, 0, 0, 0.15);\n",
              "      filter: drop-shadow(0px 1px 2px rgba(0, 0, 0, 0.3));\n",
              "      fill: #FFFFFF;\n",
              "    }\n",
              "  </style>\n",
              "\n",
              "      <script>\n",
              "        const buttonEl =\n",
              "          document.querySelector('#df-d519416f-9266-461b-add7-7d903da981bd button.colab-df-convert');\n",
              "        buttonEl.style.display =\n",
              "          google.colab.kernel.accessAllowed ? 'block' : 'none';\n",
              "\n",
              "        async function convertToInteractive(key) {\n",
              "          const element = document.querySelector('#df-d519416f-9266-461b-add7-7d903da981bd');\n",
              "          const dataTable =\n",
              "            await google.colab.kernel.invokeFunction('convertToInteractive',\n",
              "                                                     [key], {});\n",
              "          if (!dataTable) return;\n",
              "\n",
              "          const docLinkHtml = 'Like what you see? Visit the ' +\n",
              "            '<a target=\"_blank\" href=https://colab.research.google.com/notebooks/data_table.ipynb>data table notebook</a>'\n",
              "            + ' to learn more about interactive tables.';\n",
              "          element.innerHTML = '';\n",
              "          dataTable['output_type'] = 'display_data';\n",
              "          await google.colab.output.renderOutput(dataTable, element);\n",
              "          const docLink = document.createElement('div');\n",
              "          docLink.innerHTML = docLinkHtml;\n",
              "          element.appendChild(docLink);\n",
              "        }\n",
              "      </script>\n",
              "    </div>\n",
              "  </div>\n",
              "  "
            ]
          },
          "metadata": {},
          "execution_count": 2
        }
      ]
    },
    {
      "cell_type": "code",
      "source": [
        "X = df.drop('price' , axis = 1)\n",
        "y = df['price']"
      ],
      "metadata": {
        "id": "ZiyC2p1Yraep"
      },
      "execution_count": null,
      "outputs": []
    },
    {
      "cell_type": "code",
      "source": [
        "print(X.shape)\n",
        "print(y.shape)"
      ],
      "metadata": {
        "colab": {
          "base_uri": "https://localhost:8080/"
        },
        "id": "YLdnlSVDreQn",
        "outputId": "c64e5e94-5955-4efc-9a67-b3c03ad698af"
      },
      "execution_count": null,
      "outputs": [
        {
          "output_type": "stream",
          "name": "stdout",
          "text": [
            "(7120, 107)\n",
            "(7120,)\n"
          ]
        }
      ]
    },
    {
      "cell_type": "code",
      "source": [
        "X_train , X_test , y_train , y_test = train_test_split( X , y , test_size= 0.2 , random_state = 51)\n",
        "print(f\"{X_train.shape} ,{X_test.shape} , {y_train.shape} , {y_test.shape} \")"
      ],
      "metadata": {
        "colab": {
          "base_uri": "https://localhost:8080/"
        },
        "id": "i1q8B4eQrhrm",
        "outputId": "9b9a3c45-a88e-4ff8-cf24-d3660c9c5681"
      },
      "execution_count": null,
      "outputs": [
        {
          "output_type": "stream",
          "name": "stdout",
          "text": [
            "(5696, 107) ,(1424, 107) , (5696,) , (1424,) \n"
          ]
        }
      ]
    },
    {
      "cell_type": "markdown",
      "source": [
        "Feature Scaling - Standard Scaler"
      ],
      "metadata": {
        "id": "8ESTaItNrnuU"
      }
    },
    {
      "cell_type": "code",
      "source": [
        "sc = StandardScaler()\n",
        "sc.fit(X_train)\n",
        "print(sc.mean_)\n",
        "print(sc.scale_)"
      ],
      "metadata": {
        "colab": {
          "base_uri": "https://localhost:8080/"
        },
        "id": "lmefhB9HrkkZ",
        "outputId": "a2a8245a-cb94-41ef-aad9-e7143a211113"
      },
      "execution_count": null,
      "outputs": [
        {
          "output_type": "stream",
          "name": "stdout",
          "text": [
            "[2.38307584e+00 1.57567977e+00 1.46585984e+03 2.45646067e+00\n",
            " 5.91633522e+03 7.51404494e-01 1.82584270e-01 6.07443820e-02\n",
            " 7.93539326e-01 3.26544944e-02 2.61587079e-02 2.12429775e-02\n",
            " 1.66783708e-02 1.61516854e-02 1.56250000e-02 1.52738764e-02\n",
            " 1.65028090e-02 1.50983146e-02 1.42205056e-02 1.31671348e-02\n",
            " 1.19382022e-02 1.17626404e-02 1.12359551e-02 1.24648876e-02\n",
            " 8.60252809e-03 7.37359551e-03 7.90028090e-03 8.07584270e-03\n",
            " 7.54915730e-03 8.07584270e-03 7.54915730e-03 6.67134831e-03\n",
            " 6.67134831e-03 5.79353933e-03 5.61797753e-03 6.49578652e-03\n",
            " 5.44241573e-03 6.32022472e-03 5.09129213e-03 5.61797753e-03\n",
            " 4.56460674e-03 6.49578652e-03 5.09129213e-03 6.14466292e-03\n",
            " 5.61797753e-03 6.14466292e-03 4.21348315e-03 5.61797753e-03\n",
            " 4.74016854e-03 5.61797753e-03 4.74016854e-03 4.91573034e-03\n",
            " 5.26685393e-03 4.91573034e-03 4.03792135e-03 3.86235955e-03\n",
            " 3.86235955e-03 4.38904494e-03 4.21348315e-03 3.51123596e-03\n",
            " 3.68679775e-03 4.38904494e-03 4.38904494e-03 3.86235955e-03\n",
            " 4.03792135e-03 3.51123596e-03 4.38904494e-03 4.03792135e-03\n",
            " 3.86235955e-03 3.86235955e-03 3.51123596e-03 3.51123596e-03\n",
            " 3.51123596e-03 3.16011236e-03 3.51123596e-03 3.33567416e-03\n",
            " 3.51123596e-03 3.51123596e-03 3.68679775e-03 3.68679775e-03\n",
            " 2.98455056e-03 3.68679775e-03 3.86235955e-03 3.51123596e-03\n",
            " 3.51123596e-03 3.86235955e-03 3.86235955e-03 3.33567416e-03\n",
            " 4.21348315e-03 3.86235955e-03 3.68679775e-03 3.51123596e-03\n",
            " 2.80898876e-03 3.16011236e-03 3.86235955e-03 2.98455056e-03\n",
            " 3.51123596e-03 2.98455056e-03 2.98455056e-03 2.63342697e-03\n",
            " 2.80898876e-03 2.80898876e-03 2.98455056e-03 2.98455056e-03\n",
            " 3.16011236e-03 3.16011236e-03 2.63342697e-03]\n",
            "[8.65227177e-01 7.71370094e-01 7.75239330e+02 8.27588110e-01\n",
            " 2.51840105e+03 4.32198774e-01 3.86325322e-01 2.38860842e-01\n",
            " 4.04764949e-01 1.77730634e-01 1.59607111e-01 1.44193320e-01\n",
            " 1.28063276e-01 1.26058750e-01 1.24019593e-01 1.22640063e-01\n",
            " 1.27398847e-01 1.21944067e-01 1.18398830e-01 1.13990181e-01\n",
            " 1.08607926e-01 1.07815958e-01 1.05402601e-01 1.10948250e-01\n",
            " 9.23500114e-02 8.55524728e-02 8.85317257e-02 8.95020864e-02\n",
            " 8.65573078e-02 8.95020864e-02 8.65573078e-02 8.14054140e-02\n",
            " 8.14054140e-02 7.58944941e-02 7.47423298e-02 8.03342472e-02\n",
            " 7.35717054e-02 7.92482144e-02 7.11714190e-02 7.47423298e-02\n",
            " 6.74075004e-02 8.03342472e-02 7.11714190e-02 7.81466956e-02\n",
            " 7.47423298e-02 7.81466956e-02 6.47744526e-02 7.47423298e-02\n",
            " 6.86855104e-02 7.47423298e-02 6.86855104e-02 6.99397307e-02\n",
            " 7.23817255e-02 6.99397307e-02 6.34162167e-02 6.20277497e-02\n",
            " 6.20277497e-02 6.61043208e-02 6.47744526e-02 5.91515611e-02\n",
            " 6.06069738e-02 6.61043208e-02 6.61043208e-02 6.20277497e-02\n",
            " 6.34162167e-02 5.91515611e-02 6.61043208e-02 6.34162167e-02\n",
            " 6.20277497e-02 6.20277497e-02 5.91515611e-02 5.91515611e-02\n",
            " 5.91515611e-02 5.61259837e-02 5.91515611e-02 5.76588886e-02\n",
            " 5.91515611e-02 5.91515611e-02 6.06069738e-02 6.06069738e-02\n",
            " 5.45494548e-02 6.06069738e-02 6.20277497e-02 5.91515611e-02\n",
            " 5.91515611e-02 6.20277497e-02 6.20277497e-02 5.76588886e-02\n",
            " 6.47744526e-02 6.20277497e-02 6.06069738e-02 5.91515611e-02\n",
            " 5.29254036e-02 5.61259837e-02 6.20277497e-02 5.45494548e-02\n",
            " 5.91515611e-02 5.45494548e-02 5.45494548e-02 5.12493125e-02\n",
            " 5.29254036e-02 5.29254036e-02 5.45494548e-02 5.45494548e-02\n",
            " 5.61259837e-02 5.61259837e-02 5.12493125e-02]\n"
          ]
        }
      ]
    },
    {
      "cell_type": "code",
      "source": [
        "X_train_sc = sc.transform(X_train)\n",
        "X_test_sc = sc.transform(X_test)"
      ],
      "metadata": {
        "id": "2Mu9VgpRruSP"
      },
      "execution_count": null,
      "outputs": []
    },
    {
      "cell_type": "markdown",
      "source": [
        "Polynomial Linear Regression model Training"
      ],
      "metadata": {
        "id": "W8AgMan3r6uP"
      }
    },
    {
      "cell_type": "code",
      "source": [
        "from sklearn.linear_model import LinearRegression\n",
        "from sklearn.preprocessing import PolynomialFeatures\n",
        "from sklearn.metrics import mean_squared_error"
      ],
      "metadata": {
        "id": "D65psPKtryOX"
      },
      "execution_count": null,
      "outputs": []
    },
    {
      "cell_type": "code",
      "source": [
        "Poly_fea = PolynomialFeatures(degree = 2)\n",
        "Poly_fea.fit(X_train_sc)\n",
        "X_train_poly = Poly_fea.transform(X_train_sc)\n",
        "X_test_poly = Poly_fea.transform(X_test_sc)"
      ],
      "metadata": {
        "id": "DI0OSkDpuvVI"
      },
      "execution_count": null,
      "outputs": []
    },
    {
      "cell_type": "code",
      "source": [
        "X_train_poly.shape, X_test_poly.shape"
      ],
      "metadata": {
        "colab": {
          "base_uri": "https://localhost:8080/"
        },
        "id": "p-eOf2Ghvkmp",
        "outputId": "903384cd-3b61-40d0-c8fa-a9235374bfcb"
      },
      "execution_count": null,
      "outputs": [
        {
          "output_type": "execute_result",
          "data": {
            "text/plain": [
              "((5696, 5886), (1424, 5886))"
            ]
          },
          "metadata": {},
          "execution_count": 15
        }
      ]
    },
    {
      "cell_type": "code",
      "source": [
        "y_train.shape"
      ],
      "metadata": {
        "colab": {
          "base_uri": "https://localhost:8080/"
        },
        "id": "uYeXCFway0av",
        "outputId": "18bf7f48-b707-4a8b-f7ae-93e60fca8bd5"
      },
      "execution_count": null,
      "outputs": [
        {
          "output_type": "execute_result",
          "data": {
            "text/plain": [
              "(5696,)"
            ]
          },
          "metadata": {},
          "execution_count": 16
        }
      ]
    },
    {
      "cell_type": "code",
      "source": [
        "lr = LinearRegression()\n",
        "lr.fit(X_train_poly , y_train)"
      ],
      "metadata": {
        "colab": {
          "base_uri": "https://localhost:8080/"
        },
        "id": "YXB1p7hUvs5r",
        "outputId": "23e09d30-eb37-4fe4-84e9-09a52995acc0"
      },
      "execution_count": null,
      "outputs": [
        {
          "output_type": "execute_result",
          "data": {
            "text/plain": [
              "LinearRegression()"
            ]
          },
          "metadata": {},
          "execution_count": 17
        }
      ]
    },
    {
      "cell_type": "code",
      "source": [
        "lr.score(X_test_poly , y_test)"
      ],
      "metadata": {
        "colab": {
          "base_uri": "https://localhost:8080/"
        },
        "id": "GRxRlFWOw2zq",
        "outputId": "e6253d22-cff7-4028-ae90-d71de383dceb"
      },
      "execution_count": null,
      "outputs": [
        {
          "output_type": "execute_result",
          "data": {
            "text/plain": [
              "0.9986001711486555"
            ]
          },
          "metadata": {},
          "execution_count": 19
        }
      ]
    },
    {
      "cell_type": "code",
      "source": [
        "y_pred = lr.predict(X_test_poly)\n",
        "y_pred"
      ],
      "metadata": {
        "colab": {
          "base_uri": "https://localhost:8080/"
        },
        "id": "8ePGWEuB1giV",
        "outputId": "a9a69208-6bbc-4507-9945-962be9d4fbf5"
      },
      "execution_count": null,
      "outputs": [
        {
          "output_type": "execute_result",
          "data": {
            "text/plain": [
              "array([ 80.,  40., 120., ...,  32.,  63., 180.])"
            ]
          },
          "metadata": {},
          "execution_count": 21
        }
      ]
    },
    {
      "cell_type": "code",
      "source": [
        "mse = mean_squared_error(y_test , y_pred)\n",
        "rmse = np.sqrt(mse)\n",
        "rmse , mse"
      ],
      "metadata": {
        "colab": {
          "base_uri": "https://localhost:8080/"
        },
        "id": "HbUL3RKk0-pC",
        "outputId": "98a97315-8d47-443b-ab43-e18aaaf24ea2"
      },
      "execution_count": null,
      "outputs": [
        {
          "output_type": "execute_result",
          "data": {
            "text/plain": [
              "(5.303458569695967, 28.126672800481593)"
            ]
          },
          "metadata": {},
          "execution_count": 23
        }
      ]
    },
    {
      "cell_type": "markdown",
      "source": [
        "For now , we can say that our model is the best fit for the dataset but we have to cjheck if it is overfit or not before the actual deployment\n"
      ],
      "metadata": {
        "id": "UC_bF_NM15Dh"
      }
    },
    {
      "cell_type": "code",
      "source": [],
      "metadata": {
        "id": "MdytTy1y1x0q"
      },
      "execution_count": null,
      "outputs": []
    }
  ]
}