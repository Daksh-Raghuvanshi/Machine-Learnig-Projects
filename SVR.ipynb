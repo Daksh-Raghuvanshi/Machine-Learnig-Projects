{
  "nbformat": 4,
  "nbformat_minor": 0,
  "metadata": {
    "colab": {
      "provenance": [],
      "authorship_tag": "ABX9TyMppLZeMiX8v8H/xAwlh1Ac",
      "include_colab_link": true
    },
    "kernelspec": {
      "name": "python3",
      "display_name": "Python 3"
    },
    "language_info": {
      "name": "python"
    }
  },
  "cells": [
    {
      "cell_type": "markdown",
      "metadata": {
        "id": "view-in-github",
        "colab_type": "text"
      },
      "source": [
        "<a href=\"https://colab.research.google.com/github/Daksh-Raghuvanshi/Machine-Learnig-Projects/blob/main/SVR.ipynb\" target=\"_parent\"><img src=\"https://colab.research.google.com/assets/colab-badge.svg\" alt=\"Open In Colab\"/></a>"
      ]
    },
    {
      "cell_type": "markdown",
      "source": [
        "Support Vector Regression for Bnagalore House Prediction"
      ],
      "metadata": {
        "id": "vQi1G4bsYvVu"
      }
    },
    {
      "cell_type": "code",
      "execution_count": null,
      "metadata": {
        "id": "pHxTs9jbYc2U"
      },
      "outputs": [],
      "source": [
        "import pandas as pd\n",
        "import numpy as np\n",
        "import matplotlib.pyplot as plt\n",
        "import seaborn as sns\n",
        "from sklearn.model_selection import train_test_split\n",
        "from sklearn.preprocessing import StandardScaler"
      ]
    },
    {
      "cell_type": "code",
      "source": [
        "df = pd.read_csv('/content/bangalore house price prediction OHE-data (1).csv')\n",
        "df.head()"
      ],
      "metadata": {
        "colab": {
          "base_uri": "https://localhost:8080/",
          "height": 317
        },
        "id": "uf-KJXmQZPTZ",
        "outputId": "efb9c788-c02a-41e0-bc2f-91cf97adae4e"
      },
      "execution_count": null,
      "outputs": [
        {
          "output_type": "execute_result",
          "data": {
            "text/plain": [
              "   bath  balcony  price  total_sqft_int  bhk  price_per_sqft  \\\n",
              "0   3.0      2.0  150.0          1672.0    3     8971.291866   \n",
              "1   3.0      3.0  149.0          1750.0    3     8514.285714   \n",
              "2   3.0      2.0  150.0          1750.0    3     8571.428571   \n",
              "3   2.0      2.0   40.0          1250.0    2     3200.000000   \n",
              "4   2.0      2.0   83.0          1200.0    2     6916.666667   \n",
              "\n",
              "   area_typeSuper built-up  Area  area_typeBuilt-up  Area  \\\n",
              "0                              1                        0   \n",
              "1                              0                        1   \n",
              "2                              1                        0   \n",
              "3                              1                        0   \n",
              "4                              0                        0   \n",
              "\n",
              "   area_typePlot  Area  availability_Ready To Move  ...  \\\n",
              "0                    0                           1  ...   \n",
              "1                    0                           1  ...   \n",
              "2                    0                           1  ...   \n",
              "3                    0                           1  ...   \n",
              "4                    1                           1  ...   \n",
              "\n",
              "   location_Kalena Agrahara  location_Horamavu Agara  location_Vidyaranyapura  \\\n",
              "0                         0                        0                        0   \n",
              "1                         0                        0                        0   \n",
              "2                         0                        0                        0   \n",
              "3                         0                        0                        0   \n",
              "4                         0                        0                        0   \n",
              "\n",
              "   location_BTM 2nd Stage  location_Hebbal Kempapura  location_Hosur Road  \\\n",
              "0                       0                          0                    0   \n",
              "1                       0                          0                    0   \n",
              "2                       0                          0                    0   \n",
              "3                       0                          0                    0   \n",
              "4                       0                          0                    0   \n",
              "\n",
              "   location_Horamavu Banaswadi  location_Domlur  location_Mahadevpura  \\\n",
              "0                            0                0                     0   \n",
              "1                            0                0                     0   \n",
              "2                            0                0                     0   \n",
              "3                            0                0                     0   \n",
              "4                            0                0                     0   \n",
              "\n",
              "   location_Tumkur Road  \n",
              "0                     0  \n",
              "1                     0  \n",
              "2                     0  \n",
              "3                     0  \n",
              "4                     0  \n",
              "\n",
              "[5 rows x 108 columns]"
            ],
            "text/html": [
              "\n",
              "  <div id=\"df-840d0924-3dc6-4200-a97e-c3fae813211a\">\n",
              "    <div class=\"colab-df-container\">\n",
              "      <div>\n",
              "<style scoped>\n",
              "    .dataframe tbody tr th:only-of-type {\n",
              "        vertical-align: middle;\n",
              "    }\n",
              "\n",
              "    .dataframe tbody tr th {\n",
              "        vertical-align: top;\n",
              "    }\n",
              "\n",
              "    .dataframe thead th {\n",
              "        text-align: right;\n",
              "    }\n",
              "</style>\n",
              "<table border=\"1\" class=\"dataframe\">\n",
              "  <thead>\n",
              "    <tr style=\"text-align: right;\">\n",
              "      <th></th>\n",
              "      <th>bath</th>\n",
              "      <th>balcony</th>\n",
              "      <th>price</th>\n",
              "      <th>total_sqft_int</th>\n",
              "      <th>bhk</th>\n",
              "      <th>price_per_sqft</th>\n",
              "      <th>area_typeSuper built-up  Area</th>\n",
              "      <th>area_typeBuilt-up  Area</th>\n",
              "      <th>area_typePlot  Area</th>\n",
              "      <th>availability_Ready To Move</th>\n",
              "      <th>...</th>\n",
              "      <th>location_Kalena Agrahara</th>\n",
              "      <th>location_Horamavu Agara</th>\n",
              "      <th>location_Vidyaranyapura</th>\n",
              "      <th>location_BTM 2nd Stage</th>\n",
              "      <th>location_Hebbal Kempapura</th>\n",
              "      <th>location_Hosur Road</th>\n",
              "      <th>location_Horamavu Banaswadi</th>\n",
              "      <th>location_Domlur</th>\n",
              "      <th>location_Mahadevpura</th>\n",
              "      <th>location_Tumkur Road</th>\n",
              "    </tr>\n",
              "  </thead>\n",
              "  <tbody>\n",
              "    <tr>\n",
              "      <th>0</th>\n",
              "      <td>3.0</td>\n",
              "      <td>2.0</td>\n",
              "      <td>150.0</td>\n",
              "      <td>1672.0</td>\n",
              "      <td>3</td>\n",
              "      <td>8971.291866</td>\n",
              "      <td>1</td>\n",
              "      <td>0</td>\n",
              "      <td>0</td>\n",
              "      <td>1</td>\n",
              "      <td>...</td>\n",
              "      <td>0</td>\n",
              "      <td>0</td>\n",
              "      <td>0</td>\n",
              "      <td>0</td>\n",
              "      <td>0</td>\n",
              "      <td>0</td>\n",
              "      <td>0</td>\n",
              "      <td>0</td>\n",
              "      <td>0</td>\n",
              "      <td>0</td>\n",
              "    </tr>\n",
              "    <tr>\n",
              "      <th>1</th>\n",
              "      <td>3.0</td>\n",
              "      <td>3.0</td>\n",
              "      <td>149.0</td>\n",
              "      <td>1750.0</td>\n",
              "      <td>3</td>\n",
              "      <td>8514.285714</td>\n",
              "      <td>0</td>\n",
              "      <td>1</td>\n",
              "      <td>0</td>\n",
              "      <td>1</td>\n",
              "      <td>...</td>\n",
              "      <td>0</td>\n",
              "      <td>0</td>\n",
              "      <td>0</td>\n",
              "      <td>0</td>\n",
              "      <td>0</td>\n",
              "      <td>0</td>\n",
              "      <td>0</td>\n",
              "      <td>0</td>\n",
              "      <td>0</td>\n",
              "      <td>0</td>\n",
              "    </tr>\n",
              "    <tr>\n",
              "      <th>2</th>\n",
              "      <td>3.0</td>\n",
              "      <td>2.0</td>\n",
              "      <td>150.0</td>\n",
              "      <td>1750.0</td>\n",
              "      <td>3</td>\n",
              "      <td>8571.428571</td>\n",
              "      <td>1</td>\n",
              "      <td>0</td>\n",
              "      <td>0</td>\n",
              "      <td>1</td>\n",
              "      <td>...</td>\n",
              "      <td>0</td>\n",
              "      <td>0</td>\n",
              "      <td>0</td>\n",
              "      <td>0</td>\n",
              "      <td>0</td>\n",
              "      <td>0</td>\n",
              "      <td>0</td>\n",
              "      <td>0</td>\n",
              "      <td>0</td>\n",
              "      <td>0</td>\n",
              "    </tr>\n",
              "    <tr>\n",
              "      <th>3</th>\n",
              "      <td>2.0</td>\n",
              "      <td>2.0</td>\n",
              "      <td>40.0</td>\n",
              "      <td>1250.0</td>\n",
              "      <td>2</td>\n",
              "      <td>3200.000000</td>\n",
              "      <td>1</td>\n",
              "      <td>0</td>\n",
              "      <td>0</td>\n",
              "      <td>1</td>\n",
              "      <td>...</td>\n",
              "      <td>0</td>\n",
              "      <td>0</td>\n",
              "      <td>0</td>\n",
              "      <td>0</td>\n",
              "      <td>0</td>\n",
              "      <td>0</td>\n",
              "      <td>0</td>\n",
              "      <td>0</td>\n",
              "      <td>0</td>\n",
              "      <td>0</td>\n",
              "    </tr>\n",
              "    <tr>\n",
              "      <th>4</th>\n",
              "      <td>2.0</td>\n",
              "      <td>2.0</td>\n",
              "      <td>83.0</td>\n",
              "      <td>1200.0</td>\n",
              "      <td>2</td>\n",
              "      <td>6916.666667</td>\n",
              "      <td>0</td>\n",
              "      <td>0</td>\n",
              "      <td>1</td>\n",
              "      <td>1</td>\n",
              "      <td>...</td>\n",
              "      <td>0</td>\n",
              "      <td>0</td>\n",
              "      <td>0</td>\n",
              "      <td>0</td>\n",
              "      <td>0</td>\n",
              "      <td>0</td>\n",
              "      <td>0</td>\n",
              "      <td>0</td>\n",
              "      <td>0</td>\n",
              "      <td>0</td>\n",
              "    </tr>\n",
              "  </tbody>\n",
              "</table>\n",
              "<p>5 rows × 108 columns</p>\n",
              "</div>\n",
              "      <button class=\"colab-df-convert\" onclick=\"convertToInteractive('df-840d0924-3dc6-4200-a97e-c3fae813211a')\"\n",
              "              title=\"Convert this dataframe to an interactive table.\"\n",
              "              style=\"display:none;\">\n",
              "        \n",
              "  <svg xmlns=\"http://www.w3.org/2000/svg\" height=\"24px\"viewBox=\"0 0 24 24\"\n",
              "       width=\"24px\">\n",
              "    <path d=\"M0 0h24v24H0V0z\" fill=\"none\"/>\n",
              "    <path d=\"M18.56 5.44l.94 2.06.94-2.06 2.06-.94-2.06-.94-.94-2.06-.94 2.06-2.06.94zm-11 1L8.5 8.5l.94-2.06 2.06-.94-2.06-.94L8.5 2.5l-.94 2.06-2.06.94zm10 10l.94 2.06.94-2.06 2.06-.94-2.06-.94-.94-2.06-.94 2.06-2.06.94z\"/><path d=\"M17.41 7.96l-1.37-1.37c-.4-.4-.92-.59-1.43-.59-.52 0-1.04.2-1.43.59L10.3 9.45l-7.72 7.72c-.78.78-.78 2.05 0 2.83L4 21.41c.39.39.9.59 1.41.59.51 0 1.02-.2 1.41-.59l7.78-7.78 2.81-2.81c.8-.78.8-2.07 0-2.86zM5.41 20L4 18.59l7.72-7.72 1.47 1.35L5.41 20z\"/>\n",
              "  </svg>\n",
              "      </button>\n",
              "      \n",
              "  <style>\n",
              "    .colab-df-container {\n",
              "      display:flex;\n",
              "      flex-wrap:wrap;\n",
              "      gap: 12px;\n",
              "    }\n",
              "\n",
              "    .colab-df-convert {\n",
              "      background-color: #E8F0FE;\n",
              "      border: none;\n",
              "      border-radius: 50%;\n",
              "      cursor: pointer;\n",
              "      display: none;\n",
              "      fill: #1967D2;\n",
              "      height: 32px;\n",
              "      padding: 0 0 0 0;\n",
              "      width: 32px;\n",
              "    }\n",
              "\n",
              "    .colab-df-convert:hover {\n",
              "      background-color: #E2EBFA;\n",
              "      box-shadow: 0px 1px 2px rgba(60, 64, 67, 0.3), 0px 1px 3px 1px rgba(60, 64, 67, 0.15);\n",
              "      fill: #174EA6;\n",
              "    }\n",
              "\n",
              "    [theme=dark] .colab-df-convert {\n",
              "      background-color: #3B4455;\n",
              "      fill: #D2E3FC;\n",
              "    }\n",
              "\n",
              "    [theme=dark] .colab-df-convert:hover {\n",
              "      background-color: #434B5C;\n",
              "      box-shadow: 0px 1px 3px 1px rgba(0, 0, 0, 0.15);\n",
              "      filter: drop-shadow(0px 1px 2px rgba(0, 0, 0, 0.3));\n",
              "      fill: #FFFFFF;\n",
              "    }\n",
              "  </style>\n",
              "\n",
              "      <script>\n",
              "        const buttonEl =\n",
              "          document.querySelector('#df-840d0924-3dc6-4200-a97e-c3fae813211a button.colab-df-convert');\n",
              "        buttonEl.style.display =\n",
              "          google.colab.kernel.accessAllowed ? 'block' : 'none';\n",
              "\n",
              "        async function convertToInteractive(key) {\n",
              "          const element = document.querySelector('#df-840d0924-3dc6-4200-a97e-c3fae813211a');\n",
              "          const dataTable =\n",
              "            await google.colab.kernel.invokeFunction('convertToInteractive',\n",
              "                                                     [key], {});\n",
              "          if (!dataTable) return;\n",
              "\n",
              "          const docLinkHtml = 'Like what you see? Visit the ' +\n",
              "            '<a target=\"_blank\" href=https://colab.research.google.com/notebooks/data_table.ipynb>data table notebook</a>'\n",
              "            + ' to learn more about interactive tables.';\n",
              "          element.innerHTML = '';\n",
              "          dataTable['output_type'] = 'display_data';\n",
              "          await google.colab.output.renderOutput(dataTable, element);\n",
              "          const docLink = document.createElement('div');\n",
              "          docLink.innerHTML = docLinkHtml;\n",
              "          element.appendChild(docLink);\n",
              "        }\n",
              "      </script>\n",
              "    </div>\n",
              "  </div>\n",
              "  "
            ]
          },
          "metadata": {},
          "execution_count": 2
        }
      ]
    },
    {
      "cell_type": "code",
      "source": [
        "X = df.drop('price' , axis = 1)\n",
        "y = df['price']"
      ],
      "metadata": {
        "id": "XzyjaDf1ZS3J"
      },
      "execution_count": null,
      "outputs": []
    },
    {
      "cell_type": "code",
      "source": [
        "print(X.shape)\n",
        "print(y.shape)"
      ],
      "metadata": {
        "colab": {
          "base_uri": "https://localhost:8080/"
        },
        "id": "NN-0BkffZVaQ",
        "outputId": "2007cd55-fb0d-43dd-e2bc-d10a9e48129e"
      },
      "execution_count": null,
      "outputs": [
        {
          "output_type": "stream",
          "name": "stdout",
          "text": [
            "(7120, 107)\n",
            "(7120,)\n"
          ]
        }
      ]
    },
    {
      "cell_type": "code",
      "source": [
        "X_train , X_test , y_train , y_test = train_test_split( X , y , test_size= 0.2 , random_state = 51)\n",
        "print(f\"{X_train.shape} ,{X_test.shape} , {y_train.shape} , {y_test.shape} \")"
      ],
      "metadata": {
        "colab": {
          "base_uri": "https://localhost:8080/"
        },
        "id": "70HXxu56ZXdZ",
        "outputId": "791ea2b8-d34b-4a4e-be3a-fc30efd589a0"
      },
      "execution_count": null,
      "outputs": [
        {
          "output_type": "stream",
          "name": "stdout",
          "text": [
            "(5696, 107) ,(1424, 107) , (5696,) , (1424,) \n"
          ]
        }
      ]
    },
    {
      "cell_type": "code",
      "source": [
        "y_test.head()"
      ],
      "metadata": {
        "colab": {
          "base_uri": "https://localhost:8080/"
        },
        "id": "fXw7gfYCt4dW",
        "outputId": "c4172210-d924-46ce-962a-5ec5f9225ee0"
      },
      "execution_count": null,
      "outputs": [
        {
          "output_type": "execute_result",
          "data": {
            "text/plain": [
              "2435     80.0\n",
              "3113     40.0\n",
              "426     120.0\n",
              "1124     79.0\n",
              "1161     45.0\n",
              "Name: price, dtype: float64"
            ]
          },
          "metadata": {},
          "execution_count": 23
        }
      ]
    },
    {
      "cell_type": "code",
      "source": [
        "sc = StandardScaler()\n",
        "sc.fit(X_train)\n",
        "print(sc.mean_)\n",
        "print(sc.scale_)"
      ],
      "metadata": {
        "colab": {
          "base_uri": "https://localhost:8080/"
        },
        "id": "AlnHjhXiZbI7",
        "outputId": "f31071c6-03ae-429f-d82c-d2eae2b30c0d"
      },
      "execution_count": null,
      "outputs": [
        {
          "output_type": "stream",
          "name": "stdout",
          "text": [
            "[2.38307584e+00 1.57567977e+00 1.46585984e+03 2.45646067e+00\n",
            " 5.91633522e+03 7.51404494e-01 1.82584270e-01 6.07443820e-02\n",
            " 7.93539326e-01 3.26544944e-02 2.61587079e-02 2.12429775e-02\n",
            " 1.66783708e-02 1.61516854e-02 1.56250000e-02 1.52738764e-02\n",
            " 1.65028090e-02 1.50983146e-02 1.42205056e-02 1.31671348e-02\n",
            " 1.19382022e-02 1.17626404e-02 1.12359551e-02 1.24648876e-02\n",
            " 8.60252809e-03 7.37359551e-03 7.90028090e-03 8.07584270e-03\n",
            " 7.54915730e-03 8.07584270e-03 7.54915730e-03 6.67134831e-03\n",
            " 6.67134831e-03 5.79353933e-03 5.61797753e-03 6.49578652e-03\n",
            " 5.44241573e-03 6.32022472e-03 5.09129213e-03 5.61797753e-03\n",
            " 4.56460674e-03 6.49578652e-03 5.09129213e-03 6.14466292e-03\n",
            " 5.61797753e-03 6.14466292e-03 4.21348315e-03 5.61797753e-03\n",
            " 4.74016854e-03 5.61797753e-03 4.74016854e-03 4.91573034e-03\n",
            " 5.26685393e-03 4.91573034e-03 4.03792135e-03 3.86235955e-03\n",
            " 3.86235955e-03 4.38904494e-03 4.21348315e-03 3.51123596e-03\n",
            " 3.68679775e-03 4.38904494e-03 4.38904494e-03 3.86235955e-03\n",
            " 4.03792135e-03 3.51123596e-03 4.38904494e-03 4.03792135e-03\n",
            " 3.86235955e-03 3.86235955e-03 3.51123596e-03 3.51123596e-03\n",
            " 3.51123596e-03 3.16011236e-03 3.51123596e-03 3.33567416e-03\n",
            " 3.51123596e-03 3.51123596e-03 3.68679775e-03 3.68679775e-03\n",
            " 2.98455056e-03 3.68679775e-03 3.86235955e-03 3.51123596e-03\n",
            " 3.51123596e-03 3.86235955e-03 3.86235955e-03 3.33567416e-03\n",
            " 4.21348315e-03 3.86235955e-03 3.68679775e-03 3.51123596e-03\n",
            " 2.80898876e-03 3.16011236e-03 3.86235955e-03 2.98455056e-03\n",
            " 3.51123596e-03 2.98455056e-03 2.98455056e-03 2.63342697e-03\n",
            " 2.80898876e-03 2.80898876e-03 2.98455056e-03 2.98455056e-03\n",
            " 3.16011236e-03 3.16011236e-03 2.63342697e-03]\n",
            "[8.65227177e-01 7.71370094e-01 7.75239330e+02 8.27588110e-01\n",
            " 2.51840105e+03 4.32198774e-01 3.86325322e-01 2.38860842e-01\n",
            " 4.04764949e-01 1.77730634e-01 1.59607111e-01 1.44193320e-01\n",
            " 1.28063276e-01 1.26058750e-01 1.24019593e-01 1.22640063e-01\n",
            " 1.27398847e-01 1.21944067e-01 1.18398830e-01 1.13990181e-01\n",
            " 1.08607926e-01 1.07815958e-01 1.05402601e-01 1.10948250e-01\n",
            " 9.23500114e-02 8.55524728e-02 8.85317257e-02 8.95020864e-02\n",
            " 8.65573078e-02 8.95020864e-02 8.65573078e-02 8.14054140e-02\n",
            " 8.14054140e-02 7.58944941e-02 7.47423298e-02 8.03342472e-02\n",
            " 7.35717054e-02 7.92482144e-02 7.11714190e-02 7.47423298e-02\n",
            " 6.74075004e-02 8.03342472e-02 7.11714190e-02 7.81466956e-02\n",
            " 7.47423298e-02 7.81466956e-02 6.47744526e-02 7.47423298e-02\n",
            " 6.86855104e-02 7.47423298e-02 6.86855104e-02 6.99397307e-02\n",
            " 7.23817255e-02 6.99397307e-02 6.34162167e-02 6.20277497e-02\n",
            " 6.20277497e-02 6.61043208e-02 6.47744526e-02 5.91515611e-02\n",
            " 6.06069738e-02 6.61043208e-02 6.61043208e-02 6.20277497e-02\n",
            " 6.34162167e-02 5.91515611e-02 6.61043208e-02 6.34162167e-02\n",
            " 6.20277497e-02 6.20277497e-02 5.91515611e-02 5.91515611e-02\n",
            " 5.91515611e-02 5.61259837e-02 5.91515611e-02 5.76588886e-02\n",
            " 5.91515611e-02 5.91515611e-02 6.06069738e-02 6.06069738e-02\n",
            " 5.45494548e-02 6.06069738e-02 6.20277497e-02 5.91515611e-02\n",
            " 5.91515611e-02 6.20277497e-02 6.20277497e-02 5.76588886e-02\n",
            " 6.47744526e-02 6.20277497e-02 6.06069738e-02 5.91515611e-02\n",
            " 5.29254036e-02 5.61259837e-02 6.20277497e-02 5.45494548e-02\n",
            " 5.91515611e-02 5.45494548e-02 5.45494548e-02 5.12493125e-02\n",
            " 5.29254036e-02 5.29254036e-02 5.45494548e-02 5.45494548e-02\n",
            " 5.61259837e-02 5.61259837e-02 5.12493125e-02]\n"
          ]
        }
      ]
    },
    {
      "cell_type": "code",
      "source": [
        "X_train_sc = sc.transform(X_train)\n",
        "X_test_sc = sc.transform(X_test)"
      ],
      "metadata": {
        "id": "D-5CXnt_ZeA8"
      },
      "execution_count": null,
      "outputs": []
    },
    {
      "cell_type": "markdown",
      "source": [
        "Creating the Model for Support Vector Regression"
      ],
      "metadata": {
        "id": "g4tLiIZDZj_Y"
      }
    },
    {
      "cell_type": "code",
      "source": [
        "from sklearn.svm import SVR"
      ],
      "metadata": {
        "id": "gEvBgLnuZhgv"
      },
      "execution_count": null,
      "outputs": []
    },
    {
      "cell_type": "code",
      "source": [
        "svr_rbf = SVR(kernel = 'rbf')\n",
        "svr_rbf.fit(X_train_sc , y_train)\n",
        "svr_rbf.score(X_test_sc , y_test)"
      ],
      "metadata": {
        "colab": {
          "base_uri": "https://localhost:8080/"
        },
        "id": "olwlBD-DZ5vy",
        "outputId": "281b9454-0389-423a-a916-64ce24388a5d"
      },
      "execution_count": null,
      "outputs": [
        {
          "output_type": "execute_result",
          "data": {
            "text/plain": [
              "0.20638035840828173"
            ]
          },
          "metadata": {},
          "execution_count": 13
        }
      ]
    },
    {
      "cell_type": "markdown",
      "source": [
        "Now we will try diffeent kernels for different Accuracy Scores"
      ],
      "metadata": {
        "id": "eyoKh-nob-UQ"
      }
    },
    {
      "cell_type": "code",
      "source": [
        "svr_linear = SVR(kernel = 'linear')\n",
        "svr_linear.fit(X_train_sc , y_train)\n",
        "svr_linear.score(X_test_sc , y_test)"
      ],
      "metadata": {
        "colab": {
          "base_uri": "https://localhost:8080/"
        },
        "id": "VF6bXsWtarAP",
        "outputId": "0baf01fa-364a-461a-a8dc-d8744cd2ddec"
      },
      "execution_count": null,
      "outputs": [
        {
          "output_type": "execute_result",
          "data": {
            "text/plain": [
              "0.7962656700653191"
            ]
          },
          "metadata": {},
          "execution_count": 15
        }
      ]
    },
    {
      "cell_type": "code",
      "source": [
        "svr_poly = SVR(kernel = 'poly' , degree = 2)\n",
        "svr_poly.fit(X_train_sc , y_train)\n",
        "svr_poly.score(X_test_sc , y_test)"
      ],
      "metadata": {
        "colab": {
          "base_uri": "https://localhost:8080/"
        },
        "id": "yjIns1aXbW3u",
        "outputId": "e4a16b21-9498-48c5-e6a4-27e6bb320679"
      },
      "execution_count": null,
      "outputs": [
        {
          "output_type": "execute_result",
          "data": {
            "text/plain": [
              "0.18266215211874637"
            ]
          },
          "metadata": {},
          "execution_count": 18
        }
      ]
    },
    {
      "cell_type": "code",
      "source": [
        "svr_sigmoid = SVR(kernel = 'sigmoid')\n",
        "svr_sigmoid.fit(X_train_sc , y_train)\n",
        "svr_sigmoid.score(X_test_sc , y_test)"
      ],
      "metadata": {
        "colab": {
          "base_uri": "https://localhost:8080/"
        },
        "id": "xj_-M4YAbmSu",
        "outputId": "c7182653-0db0-4582-df7c-961fa7bf22ff"
      },
      "execution_count": null,
      "outputs": [
        {
          "output_type": "execute_result",
          "data": {
            "text/plain": [
              "0.4867409362089056"
            ]
          },
          "metadata": {},
          "execution_count": 19
        }
      ]
    },
    {
      "cell_type": "markdown",
      "source": [
        "Hence Linear model giving us the best Accuracy Score , we will go with that"
      ],
      "metadata": {
        "id": "5IUOj1XrcFcH"
      }
    },
    {
      "cell_type": "code",
      "source": [
        "y_pred = svr_linear.predict(X_test_sc)\n",
        "y_pred"
      ],
      "metadata": {
        "colab": {
          "base_uri": "https://localhost:8080/"
        },
        "id": "g1dQSXo-b7I_",
        "outputId": "955e6a71-add7-430f-a3c3-d199200e2e54"
      },
      "execution_count": null,
      "outputs": [
        {
          "output_type": "execute_result",
          "data": {
            "text/plain": [
              "array([ 86.53643947,  33.70344615, 122.48608154, ...,  26.23978561,\n",
              "        64.52625061, 176.17288975])"
            ]
          },
          "metadata": {},
          "execution_count": 20
        }
      ]
    },
    {
      "cell_type": "code",
      "source": [
        "y_test"
      ],
      "metadata": {
        "colab": {
          "base_uri": "https://localhost:8080/"
        },
        "id": "WZPouHfVcZzt",
        "outputId": "71f440fc-c576-4276-d52d-04c4cf4d82a3"
      },
      "execution_count": null,
      "outputs": [
        {
          "output_type": "execute_result",
          "data": {
            "text/plain": [
              "2435     80.00\n",
              "3113     40.00\n",
              "426     120.00\n",
              "1124     79.00\n",
              "1161     45.00\n",
              "         ...  \n",
              "2078     28.34\n",
              "6855     84.00\n",
              "4381     32.00\n",
              "3862     63.00\n",
              "43      180.00\n",
              "Name: price, Length: 1424, dtype: float64"
            ]
          },
          "metadata": {},
          "execution_count": 21
        }
      ]
    },
    {
      "cell_type": "markdown",
      "source": [
        "As in general we do naot use SVR for the formation of Regression model"
      ],
      "metadata": {
        "id": "pl9OQ7BgcqrM"
      }
    },
    {
      "cell_type": "code",
      "source": [],
      "metadata": {
        "id": "EuNvryYlccGF"
      },
      "execution_count": null,
      "outputs": []
    }
  ]
}